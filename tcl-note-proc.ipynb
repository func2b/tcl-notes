{
 "cells": [
  {
   "cell_type": "markdown",
   "metadata": {},
   "source": [
    "# Tcl 过程\n",
    "\n",
    "``` tcl\n",
    "proc procedureName {arguments} {\n",
    "   body\n",
    "}\n",
    "```"
   ]
  },
  {
   "cell_type": "code",
   "execution_count": 54,
   "metadata": {},
   "outputs": [
    {
     "name": "stdout",
     "output_type": "stream",
     "text": [
      "Hello {Tom Bob}\n"
     ]
    }
   ],
   "source": [
    "proc Hello { {args World} } {\n",
    "    set re Hello\n",
    "    append re \" \" $args\n",
    "    return $re\n",
    "}\n",
    "\n",
    "puts [Hello {Tom Bob}]"
   ]
  },
  {
   "cell_type": "markdown",
   "metadata": {},
   "source": [
    "过程允许递归"
   ]
  },
  {
   "cell_type": "code",
   "execution_count": 56,
   "metadata": {},
   "outputs": [
    {
     "name": "stdout",
     "output_type": "stream",
     "text": [
      "120\n"
     ]
    }
   ],
   "source": [
    "proc factorial {num} {\n",
    "    if {$num <= 1} {\n",
    "        return 1\n",
    "    } else {\n",
    "        return [expr $num * [factorial [expr $num -1]]]\n",
    "    }\n",
    "}\n",
    "\n",
    "puts [factorial 5]"
   ]
  }
 ],
 "metadata": {
  "kernelspec": {
   "display_name": "Tcl",
   "language": "Tcl",
   "name": "tcl"
  },
  "language_info": {
   "codemirror_mode": {
    "name": "text/x-tcl",
    "version": 2
   },
   "file_extension": ".tcl",
   "mimetype": "text/x-tcl",
   "name": "Tcl"
  }
 },
 "nbformat": 4,
 "nbformat_minor": 2
}
