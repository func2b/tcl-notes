{
 "cells": [
  {
   "cell_type": "markdown",
   "metadata": {},
   "source": [
    "# Tcl 列表"
   ]
  },
  {
   "cell_type": "markdown",
   "metadata": {},
   "source": [
    "### 创建列表\n",
    "\n",
    "``` tcl\n",
    "set listName { item1 item2 item3 .. itemn }\n",
    "# or\n",
    "set listName [list item1 item2 item3]\n",
    "# or \n",
    "set listName [split \"items separated by a character\" split_character]\n",
    "```"
   ]
  },
  {
   "cell_type": "code",
   "execution_count": 1,
   "metadata": {
    "scrolled": true
   },
   "outputs": [
    {
     "name": "stdout",
     "output_type": "stream",
     "text": [
      "red green blue\n",
      "red green blue\n",
      "red green blue\n"
     ]
    }
   ],
   "source": [
    "set colorList1 {red green blue}\n",
    "set colorList2 [list red green blue]\n",
    "set colorList3 [split \"red_green_blue\" _]\n",
    "puts $colorList1\n",
    "puts $colorList2\n",
    "puts $colorList3"
   ]
  },
  {
   "cell_type": "markdown",
   "metadata": {},
   "source": [
    "### 追加到列表\n",
    "\n",
    "``` tcl\n",
    "append listName split_character value\n",
    "# or\n",
    "lappend listName value\n",
    "```\n",
    "\n",
    "这里可以看出，tcl的 `append` 是对字符串的操作，本意是在字符串后面附加, `lappend` 相当于在字符串后面附加空格和一个字符串"
   ]
  },
  {
   "cell_type": "code",
   "execution_count": 2,
   "metadata": {},
   "outputs": [
    {
     "name": "stdout",
     "output_type": "stream",
     "text": [
      "orange blue red green\n"
     ]
    }
   ],
   "source": [
    "set var orange\n",
    "append var \" \" \"blue\"\n",
    "lappend var \"red\" \n",
    "lappend var \"green\" \n",
    "puts $var"
   ]
  },
  {
   "cell_type": "markdown",
   "metadata": {},
   "source": [
    "### 列表长度\n",
    "\n",
    "``` tcl\n",
    "llength listName\n",
    "```"
   ]
  },
  {
   "cell_type": "code",
   "execution_count": 1,
   "metadata": {},
   "outputs": [
    {
     "name": "stdout",
     "output_type": "stream",
     "text": [
      "4\n"
     ]
    }
   ],
   "source": [
    "set var {orange blue red green}\n",
    "puts [llength $var]"
   ]
  },
  {
   "cell_type": "markdown",
   "metadata": {},
   "source": [
    "### 根据索引访问项\n",
    "\n",
    "根据索引访问元素\n",
    "\n",
    "``` tcl\n",
    "lindex listName index\n",
    "```"
   ]
  },
  {
   "cell_type": "code",
   "execution_count": 17,
   "metadata": {},
   "outputs": [
    {
     "name": "stdout",
     "output_type": "stream",
     "text": [
      "A\n",
      "B\n",
      "C\n",
      "D\n",
      "E\n"
     ]
    }
   ],
   "source": [
    "set var {A B C D E F}\n",
    "\n",
    "for { set index 0 } { $index < [ expr [ llength $var ] -1 ] } { incr index } {\n",
    "    puts [lindex $var $index]\n",
    "}\n",
    "\n",
    "# 从 0 开始"
   ]
  },
  {
   "cell_type": "markdown",
   "metadata": {},
   "source": [
    "### 插入项\n",
    "\n",
    "``` tcl\n",
    "linsert listname index value1 value2..valuen\n",
    "```"
   ]
  },
  {
   "cell_type": "code",
   "execution_count": 19,
   "metadata": {},
   "outputs": [
    {
     "name": "stdout",
     "output_type": "stream",
     "text": [
      "red white black blue green\n"
     ]
    }
   ],
   "source": [
    "set var {red blue green}\n",
    "set var [linsert $var 1 white black]\n",
    "puts $var"
   ]
  },
  {
   "cell_type": "markdown",
   "metadata": {},
   "source": [
    "### 替换项\n",
    "\n",
    "``` tcl\n",
    "lreplace listname firstindex lastindex value1 value2..valuen\n",
    "```"
   ]
  },
  {
   "cell_type": "code",
   "execution_count": 33,
   "metadata": {},
   "outputs": [
    {
     "name": "stdout",
     "output_type": "stream",
     "text": [
      "X Y C D E F G\n"
     ]
    }
   ],
   "source": [
    "set var {A B C D E F G}\n",
    "set var [lreplace $var 0 1 X Y]\n",
    "puts $var"
   ]
  },
  {
   "cell_type": "markdown",
   "metadata": {},
   "source": [
    "### 设置项\n",
    "\n",
    "```tcl\n",
    "lset listname index value\n",
    "```\n",
    "\n",
    "注意不同之处在于 `lset` 直接读取变量并修改"
   ]
  },
  {
   "cell_type": "code",
   "execution_count": 50,
   "metadata": {},
   "outputs": [
    {
     "name": "stdout",
     "output_type": "stream",
     "text": [
      "X B C D\n"
     ]
    }
   ],
   "source": [
    "set var {A B C D}\n",
    "lset var 0 X\n",
    "puts $var"
   ]
  },
  {
   "cell_type": "markdown",
   "metadata": {},
   "source": [
    "### 导出变量值\n",
    "\n",
    "```tcl\n",
    "lassign listname variable1 variable2.. variablen\n",
    "```\n"
   ]
  },
  {
   "cell_type": "code",
   "execution_count": 59,
   "metadata": {},
   "outputs": [
    {
     "name": "stdout",
     "output_type": "stream",
     "text": [
      "A,B,C,D,E,F,,\n"
     ]
    }
   ],
   "source": [
    "set var {A B C D E F}\n",
    "lassign $var a b c d e f g \n",
    "puts $a,$b,$c,$d,$e,$f,$g,"
   ]
  },
  {
   "cell_type": "markdown",
   "metadata": {},
   "source": [
    "### 排序\n",
    "\n",
    "``` tcl\n",
    "lsort listname\n",
    "```"
   ]
  },
  {
   "cell_type": "code",
   "execution_count": 61,
   "metadata": {},
   "outputs": [
    {
     "name": "stdout",
     "output_type": "stream",
     "text": [
      "Apple Box Cat Dog Egg Orange Zero\n"
     ]
    }
   ],
   "source": [
    "set var {Zero Orange Apple Box Cat Dog Egg}\n",
    "set var [lsort $var]\n",
    "puts $var"
   ]
  }
 ],
 "metadata": {
  "kernelspec": {
   "display_name": "Tcl",
   "language": "Tcl",
   "name": "tcl"
  },
  "language_info": {
   "codemirror_mode": {
    "name": "text/x-tcl",
    "version": 2
   },
   "file_extension": ".tcl",
   "mimetype": "text/x-tcl",
   "name": "Tcl"
  }
 },
 "nbformat": 4,
 "nbformat_minor": 2
}
