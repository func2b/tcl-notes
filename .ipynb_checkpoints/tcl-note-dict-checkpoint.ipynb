{
 "cells": [
  {
   "cell_type": "markdown",
   "metadata": {},
   "source": [
    "# Tcl dict"
   ]
  },
  {
   "cell_type": "markdown",
   "metadata": {},
   "source": [
    "词典是用于值映射到键的布置。常规字典的语法如下所示:\n",
    "\n",
    "``` tcl\n",
    "dict set dictname key value\n",
    "# or \n",
    "dict create dictname key1 value1 key2 value2 .. keyn valuen\n",
    "```"
   ]
  },
  {
   "cell_type": "code",
   "execution_count": 3,
   "metadata": {},
   "outputs": [
    {
     "name": "stdout",
     "output_type": "stream",
     "text": [
      "c1 red c2 green\n",
      "c1 red c2 green\n",
      "a1 cat a2 dog a3 bird\n"
     ]
    }
   ],
   "source": [
    "dict set colors c1 red\n",
    "puts $colors\n",
    "dict set colors c2 green\n",
    "puts $colors\n",
    "set animals [dict create a1 \"cat\" a2 \"dog\" a3 \"bird\"]\n",
    "puts $animals"
   ]
  },
  {
   "cell_type": "markdown",
   "metadata": {},
   "source": [
    "### 字典大小\n",
    "\n",
    "``` tcl\n",
    "[dict size dictname]\n",
    "```"
   ]
  },
  {
   "cell_type": "code",
   "execution_count": 5,
   "metadata": {},
   "outputs": [
    {
     "name": "stdout",
     "output_type": "stream",
     "text": [
      "3\n"
     ]
    }
   ],
   "source": [
    "puts [dict size $animals]"
   ]
  },
  {
   "cell_type": "markdown",
   "metadata": {},
   "source": [
    "### 键、键值、遍历"
   ]
  },
  {
   "cell_type": "code",
   "execution_count": 11,
   "metadata": {},
   "outputs": [
    {
     "name": "stdout",
     "output_type": "stream",
     "text": [
      "a1 a2 a3\n",
      "cat dog bird\n",
      "cat\n",
      "dog\n",
      "bird\n"
     ]
    }
   ],
   "source": [
    "#所有键\n",
    "puts [dict keys $animals]\n",
    "#所有值\n",
    "puts [dict values $animals]\n",
    "\n",
    "foreach i [dict keys $animals] {\n",
    "    puts [dict get $animals $i]\n",
    "}"
   ]
  },
  {
   "cell_type": "markdown",
   "metadata": {},
   "source": [
    "### exist - 键是否存在"
   ]
  },
  {
   "cell_type": "code",
   "execution_count": 20,
   "metadata": {},
   "outputs": [
    {
     "name": "stdout",
     "output_type": "stream",
     "text": [
      "1\n",
      "0\n"
     ]
    }
   ],
   "source": [
    "puts [dict exist $animals a1]\n",
    "puts [dict exist $animals a10]"
   ]
  }
 ],
 "metadata": {
  "kernelspec": {
   "display_name": "Tcl",
   "language": "Tcl",
   "name": "tcl"
  },
  "language_info": {
   "codemirror_mode": {
    "name": "text/x-tcl",
    "version": 2
   },
   "file_extension": ".tcl",
   "mimetype": "text/x-tcl",
   "name": "Tcl"
  }
 },
 "nbformat": 4,
 "nbformat_minor": 2
}
