{
 "cells": [
  {
   "cell_type": "markdown",
   "metadata": {},
   "source": [
    "# Inner Functions\n",
    "\n",
    "- clock\n",
    "- open\n",
    "- exec\n",
    "- close"
   ]
  },
  {
   "cell_type": "code",
   "execution_count": 1,
   "metadata": {},
   "outputs": [
    {
     "name": "stdout",
     "output_type": "stream",
     "text": [
      "1543477450\n",
      "11/29/2018-15-44-10\n"
     ]
    }
   ],
   "source": [
    "set cTime [clock seconds]\n",
    "puts $cTime\n",
    "\n",
    "puts [clock format $cTime -format %D-%H-%M-%S]"
   ]
  },
  {
   "cell_type": "code",
   "execution_count": 2,
   "metadata": {},
   "outputs": [
    {
     "name": "stdout",
     "output_type": "stream",
     "text": [
      "PING 127.0.0.1 (127.0.0.1) 56(84) bytes of data.\n",
      "64 bytes from 127.0.0.1: icmp_seq=1 ttl=64 time=0.030 ms\n",
      "64 bytes from 127.0.0.1: icmp_seq=2 ttl=64 time=0.139 ms\n",
      "64 bytes from 127.0.0.1: icmp_seq=3 ttl=64 time=0.042 ms\n",
      "\n",
      "--- 127.0.0.1 ping statistics ---\n",
      "3 packets transmitted, 3 received, 0% packet loss, time 59ms\n",
      "rtt min/avg/max/mdev = 0.030/0.070/0.139/0.049 ms\n"
     ]
    }
   ],
   "source": [
    "puts [exec ping 127.0.0.1 -c 3]"
   ]
  },
  {
   "cell_type": "code",
   "execution_count": null,
   "metadata": {},
   "outputs": [],
   "source": []
  }
 ],
 "metadata": {
  "kernelspec": {
   "display_name": "Tcl",
   "language": "Tcl",
   "name": "tcl"
  },
  "language_info": {
   "codemirror_mode": {
    "name": "text/x-tcl",
    "version": 2
   },
   "file_extension": ".tcl",
   "mimetype": "text/x-tcl",
   "name": "Tcl"
  }
 },
 "nbformat": 4,
 "nbformat_minor": 2
}
