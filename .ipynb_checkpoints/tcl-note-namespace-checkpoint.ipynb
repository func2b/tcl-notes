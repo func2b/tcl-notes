{
 "cells": [
  {
   "cell_type": "markdown",
   "metadata": {},
   "source": [
    "# Tcl 命名空间\n",
    "\n",
    "Tcl解释器将所有的命令和全局变量分组管理。这些小组称为命名空间，一个命名空间中的命令和变量不会影响到另一个命名空间。这些命名空间呈树形组织，一个命名空间的命令可以被另一个命名空间引入。命名空间树的根就是全局命名空间，它包含了没有明确在其他命名空间中创建的所有命令和变量。\n",
    "\n",
    "任何已经存在的命名空间中的命令和变量，都可以从命名空间内部或外部创建。在命令或变量的名称前面加上命名空间前缀就可以完成这一点，前缀与名称之间以NameSpace::Var来分隔。若全局命名空间的名称是空字符串，通常只写::Var"
   ]
  },
  {
   "cell_type": "code",
   "execution_count": 109,
   "metadata": {},
   "outputs": [
    {
     "name": "stdout",
     "output_type": "stream",
     "text": [
      "abc\n",
      "def\n",
      "igh\n",
      "144\n"
     ]
    },
    {
     "name": "stderr",
     "output_type": "stream",
     "text": [
      "invalid command name \"Mul\""
     ]
    }
   ],
   "source": [
    "namespace eval ::NS {\n",
    "\n",
    "    variable Var\n",
    "    \n",
    "    namespace eval innerNS {\n",
    "        variable innerVar\n",
    "    }\n",
    "    \n",
    "    variable anotherVar\n",
    "    \n",
    "    proc Mul {a b} {\n",
    "        return [expr $a * $b]\n",
    "    }\n",
    "    \n",
    "    namespace export Mul #设置过程可导出\n",
    "}\n",
    "\n",
    "set ::NS::innerNS::innerVar \"abc\"\n",
    "set ::NS::Var \"def\"\n",
    "set ::NS::anotherVar \"igh\"\n",
    "\n",
    "puts $::NS::innerNS::innerVar\n",
    "puts $::NS::Var\n",
    "puts $::NS::anotherVar\n",
    "\n",
    "namespace import ::NS::*\n",
    "puts [Mul 12 12]\n",
    "\n",
    "namespace forget ::NS::*\n",
    "puts [Mul 12 12]"
   ]
  }
 ],
 "metadata": {
  "kernelspec": {
   "display_name": "Tcl",
   "language": "Tcl",
   "name": "tcl"
  },
  "language_info": {
   "codemirror_mode": {
    "name": "text/x-tcl",
    "version": 2
   },
   "file_extension": ".tcl",
   "mimetype": "text/x-tcl",
   "name": "Tcl"
  }
 },
 "nbformat": 4,
 "nbformat_minor": 2
}
