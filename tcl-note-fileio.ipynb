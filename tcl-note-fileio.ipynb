{
 "cells": [
  {
   "cell_type": "markdown",
   "metadata": {},
   "source": [
    "# 文件IO\n",
    "\n",
    "| 模式 | 描述 |\n",
    "| - | :- |\n",
    "| r   | 打开一个现有的文本文件读取并且文件必须存在。这是没有指定accessMode时使用的默认模式。 |\n",
    "| w\t  | 打开用于写入的文本文件中、，如果它不存在，则一个新文件创建，其他现有的文件将被截断。 |\n",
    "| a\t  | 打开写在追加模式，文件必须存在一个文本文件。在这里，程序将开始追加到现有的文件内容的内容。 |\n",
    "| r+  | 打开用于读取和写入两种的文本文件。文件必须已经存在。 |\n",
    "| w+  | 打开用于读取和写入两种的文本文件。如果它存在首先截断文件为零长度，否则创建该文件，如果它不存在。 |\n",
    "| a+  | 打开用于读取和写入两种的文本文件。它，如果它不存在，创建该文件。读数将从头开始，但写只能追加。 |\n",
    "\n"
   ]
  },
  {
   "cell_type": "code",
   "execution_count": 1,
   "metadata": {},
   "outputs": [
    {
     "name": "stdout",
     "output_type": "stream",
     "text": [
      "characters 10,\tdata: first line\n",
      "characters 8,\tdata: 2nd line\n",
      "characters 6,\tdata: abcdef\n",
      "characters 6,\tdata: 123456\n",
      "characters 20,\tdata: Next is a blank line\n",
      "characters 0,\tdata: \n",
      "characters 6,\tdata: 一二三四五六\n",
      "characters 5,\tdata: あいうえお\n"
     ]
    }
   ],
   "source": [
    "# 初始化测试文件\n",
    "set fp [open \"./files/log.txt\" w]\n",
    "puts $fp \"first line\\n2nd line\\nabcdef\\n123456\\nNext is a blank line\\n\\n一二三四五六\\nあいうえお\"\n",
    "close $fp\n",
    "\n",
    "# 读取\n",
    "set fp [open \"./files/log.txt\" r]\n",
    "\n",
    "# 按行\n",
    "\n",
    "while { 1 } {\n",
    "    set n [gets $fp data]\n",
    "    if {$n < 0 } {\n",
    "        break\n",
    "    }\n",
    "    puts [format \"characters %d,\\tdata: %s\" $n $data]\n",
    "}\n",
    "\n",
    "# gets 返回的是字符数\n",
    "# 因此 -1 表示没有任何字符，空行返回 0 ，可以从这个例子看出\n",
    "\n",
    "close $fp"
   ]
  },
  {
   "cell_type": "code",
   "execution_count": 2,
   "metadata": {},
   "outputs": [
    {
     "name": "stdout",
     "output_type": "stream",
     "text": [
      "first line\n",
      "2nd line\n",
      "abcdef\n",
      "123456\n",
      "Next is a blank line\n",
      "\n",
      "一二三四五六\n",
      "あいうえお\n",
      "\n"
     ]
    }
   ],
   "source": [
    "# 使用read方法\n",
    "set fp [open \"./files/log.txt\" r]\n",
    "set data [read $fp]\n",
    "close $fp\n",
    "puts $data"
   ]
  },
  {
   "cell_type": "code",
   "execution_count": null,
   "metadata": {},
   "outputs": [],
   "source": []
  }
 ],
 "metadata": {
  "kernelspec": {
   "display_name": "Tcl",
   "language": "Tcl",
   "name": "tcl"
  },
  "language_info": {
   "codemirror_mode": {
    "name": "text/x-tcl",
    "version": 2
   },
   "file_extension": ".tcl",
   "mimetype": "text/x-tcl",
   "name": "Tcl"
  }
 },
 "nbformat": 4,
 "nbformat_minor": 2
}
